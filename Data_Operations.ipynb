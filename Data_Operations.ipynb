{
  "nbformat": 4,
  "nbformat_minor": 0,
  "metadata": {
    "colab": {
      "provenance": [],
      "authorship_tag": "ABX9TyMbBBUlHNDWbl/fHsqt3C7O",
      "include_colab_link": true
    },
    "kernelspec": {
      "name": "python3",
      "display_name": "Python 3"
    },
    "language_info": {
      "name": "python"
    }
  },
  "cells": [
    {
      "cell_type": "markdown",
      "metadata": {
        "id": "view-in-github",
        "colab_type": "text"
      },
      "source": [
        "<a href=\"https://colab.research.google.com/github/Rojinar8/Machine-Learning/blob/main/Data_Operations.ipynb\" target=\"_parent\"><img src=\"https://colab.research.google.com/assets/colab-badge.svg\" alt=\"Open In Colab\"/></a>"
      ]
    },
    {
      "cell_type": "code",
      "source": [
        "# Euclidean using math as nt\n",
        "import math as nt\n",
        "x=[1,2,3]\n",
        "y=[4,5,6]\n",
        "print(nt.dist(x,y))\n"
      ],
      "metadata": {
        "colab": {
          "base_uri": "https://localhost:8080/"
        },
        "id": "SO50SNwtVmBm",
        "outputId": "ebaee874-3aaa-4421-81bd-8dc8abca33b2"
      },
      "execution_count": 3,
      "outputs": [
        {
          "output_type": "stream",
          "name": "stdout",
          "text": [
            "5.196152422706632\n"
          ]
        }
      ]
    },
    {
      "cell_type": "code",
      "source": [
        "# Euclidean using numpy as np\n",
        "import numpy as np\n",
        "x = np.array([1, 2, 3])\n",
        "y = np.array([4, 5, 6])\n",
        "sum=np.sum(np.square(x-y))\n",
        "print(np.sqrt(sum))"
      ],
      "metadata": {
        "colab": {
          "base_uri": "https://localhost:8080/"
        },
        "id": "BDN-pN50XgtH",
        "outputId": "e54ede74-8aef-4065-9b26-3c1d02fb88a2"
      },
      "execution_count": 4,
      "outputs": [
        {
          "output_type": "stream",
          "name": "stdout",
          "text": [
            "5.196152422706632\n"
          ]
        }
      ]
    },
    {
      "cell_type": "code",
      "source": [
        "import numpy as np\n",
        "x = np.array([[1, 2, 3], [4, 5, 6], [7, 8, 9]])\n",
        "y= np.array([[9, 8, 7], [6, 5, 4], [3, 2, 1]])\n",
        "\n",
        "result_dot = np.dot(x, y)\n",
        "print(\"Matrix multiplication using np.dot():\\n\", result_dot)"
      ],
      "metadata": {
        "colab": {
          "base_uri": "https://localhost:8080/"
        },
        "id": "14FuM42GY07N",
        "outputId": "227fd06f-372e-4f68-f8f4-be984678b149"
      },
      "execution_count": 5,
      "outputs": [
        {
          "output_type": "stream",
          "name": "stdout",
          "text": [
            "Matrix multiplication using np.dot():\n",
            " [[ 30  24  18]\n",
            " [ 84  69  54]\n",
            " [138 114  90]]\n"
          ]
        }
      ]
    }
  ]
}